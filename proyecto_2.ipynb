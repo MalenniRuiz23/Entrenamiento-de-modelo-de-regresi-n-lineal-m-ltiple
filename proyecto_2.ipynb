{
  "nbformat": 4,
  "nbformat_minor": 0,
  "metadata": {
    "colab": {
      "provenance": [],
      "authorship_tag": "ABX9TyM70PJDwhKEE/NbUiKIFayf",
      "include_colab_link": true
    },
    "kernelspec": {
      "name": "python3",
      "display_name": "Python 3"
    },
    "language_info": {
      "name": "python"
    }
  },
  "cells": [
    {
      "cell_type": "markdown",
      "metadata": {
        "id": "view-in-github",
        "colab_type": "text"
      },
      "source": [
        "<a href=\"https://colab.research.google.com/github/MalenniRuiz23/Entrenamiento-de-modelo-de-regresi-n-lineal-m-ltiple/blob/main/proyecto_2.ipynb\" target=\"_parent\"><img src=\"https://colab.research.google.com/assets/colab-badge.svg\" alt=\"Open In Colab\"/></a>"
      ]
    },
    {
      "cell_type": "code",
      "execution_count": null,
      "metadata": {
        "id": "2tp-Owzf7R36"
      },
      "outputs": [],
      "source": [
        "import pandas as pd\n",
        "import seaborn as sns\n",
        "import matplotlib.pyplot as plt\n",
        "import numpy as np\n",
        "from sklearn.model_selection import train_test_split\n",
        "from sklearn.linear_model import LinearRegression\n",
        "from sklearn.metrics import mean_squared_error, r2_score"
      ]
    },
    {
      "cell_type": "code",
      "source": [
        "df=pd.read_csv(\"/content/casas.csv\")\n",
        "df.head()"
      ],
      "metadata": {
        "id": "_oNHIh1CHz1J"
      },
      "execution_count": null,
      "outputs": []
    },
    {
      "cell_type": "markdown",
      "source": [
        "de la linea 16 a la 19 se ralizo deacuerdo a lo ultimo explicado"
      ],
      "metadata": {
        "id": "vWmhcrfOipTC"
      }
    },
    {
      "cell_type": "code",
      "source": [
        "df.info()"
      ],
      "metadata": {
        "id": "1l8c_Qi-9nrS"
      },
      "execution_count": null,
      "outputs": []
    },
    {
      "cell_type": "code",
      "source": [
        "df.describe()"
      ],
      "metadata": {
        "id": "MvPfnJx2-QZx"
      },
      "execution_count": null,
      "outputs": []
    },
    {
      "cell_type": "code",
      "source": [
        "df[\"Departamento\"].unique()"
      ],
      "metadata": {
        "id": "N6MCjhOX_VCu"
      },
      "execution_count": null,
      "outputs": []
    },
    {
      "cell_type": "markdown",
      "source": [
        "se omite esta forma de realizar la susutitucion de alfabeto a numerico pero tambien es opcion en caso de que no copile correctamente una u otra\n",
        "le = LabelEncoder()\n",
        "df['Departamento'] = le.fit_transform(df['Departamento']) y para esto se ocupa entrar a esto \"from sklearn.preprocessing import LabelEncoder\" el ejecutarlo antes"
      ],
      "metadata": {
        "id": "p97RC-1Ni0-I"
      }
    },
    {
      "cell_type": "code",
      "source": [
        "df[\"Departamento\"] = df[\"Departamento\"].map({\"IT\":0, \"RH\":1})"
      ],
      "metadata": {
        "id": "HNv1pxWRFDci"
      },
      "execution_count": null,
      "outputs": []
    },
    {
      "cell_type": "code",
      "source": [
        "df.head()"
      ],
      "metadata": {
        "id": "SYEW-J0NGYTV"
      },
      "execution_count": null,
      "outputs": []
    },
    {
      "cell_type": "code",
      "source": [
        "# esto es para verificar por medio de tablas cuantos valores tiene por rubro\n",
        "sns.set_style(\"whitegrid\")\n",
        "fig, axes =plt.subplots(nrows=2, ncols=3, figsize=(16,10))\n",
        "sns.histplot(data=df, x=\"Salario\", kde=True, ax=axes[0, 0])\n",
        "axes[0, 0].set_title(\"distribucion de salario\")\n",
        "\n",
        "sns.countplot(data=df, x=\"Departamento\", ax=axes[0, 1])\n",
        "axes[0, 1].set_title(\"distribucion de Departamento\")\n",
        "\n",
        "sns.countplot(data=df, x=\"Hijos\", ax=axes[0, 2])\n",
        "axes[0, 2].set_title(\"distribucion de hijos\")\n",
        "\n",
        "#para crear comporativas de cual seria una mejor opcion al aplicar regresion lineal es decir que si cuente con la linea asendente/desendente\n",
        "\n",
        "sns.scatterplot(data=df, x=\"Salario\", y=\"Valor_casa\", hue=\"Departamento\", ax=axes[1, 0])\n",
        "axes[1, 0].set_title(\"salario Vs valor de casa\")\n",
        "\n",
        "sns.scatterplot(data=df, x=\"Hijos\", y=\"Valor_casa\", hue=\"Departamento\", ax=axes[1, 1])\n",
        "axes[1, 1].set_title(\"hijos Vs valor de casa\")\n",
        "\n",
        "sns.scatterplot(data=df, x=\"Departamento\", y=\"Valor_casa\", hue=\"Departamento\", ax=axes[1, 2])\n",
        "axes[1, 2].set_title(\"departamento Vs valor de casa\")\n",
        "\n",
        "plt.tight_layout()\n",
        "plt.show()"
      ],
      "metadata": {
        "id": "TiY4HNnvIa73"
      },
      "execution_count": null,
      "outputs": []
    },
    {
      "cell_type": "code",
      "source": [
        "# es otra manera de verificar la correlacion a grandes rasgos\n",
        "correlation_matrix = df.corr()\n",
        "plt.figure(figsize=(6, 4))\n",
        "sns.heatmap(correlation_matrix, annot=True, cmap='coolwarm', fmt=\".2f\")\n",
        "plt.title('Correlación entre variables independientes y la variable objetivo')\n",
        "plt.show()"
      ],
      "metadata": {
        "id": "hoJDFma1dukM"
      },
      "execution_count": null,
      "outputs": []
    },
    {
      "cell_type": "code",
      "source": [
        "X = df[['Salario', 'Hijos', 'Departamento']]  # Variables independientes (incluyendo la variable codificada)\n",
        "y = df['Valor_casa']  # Variable objetivo\n",
        "\n",
        "X_train, X_test, y_train, y_test = train_test_split(X, y, test_size=0.2, random_state=42)\n"
      ],
      "metadata": {
        "id": "vR2F1x-Ag0ne"
      },
      "execution_count": null,
      "outputs": []
    },
    {
      "cell_type": "code",
      "source": [
        "modelo_regresion = LinearRegression()#entrenamos la regresion lineal"
      ],
      "metadata": {
        "id": "NzWNJvGXhQJN"
      },
      "execution_count": null,
      "outputs": []
    },
    {
      "cell_type": "code",
      "source": [
        "modelo_regresion.fit(X_train, y_train) #la hacemos pequeña"
      ],
      "metadata": {
        "id": "VRm_wGQvhSBF"
      },
      "execution_count": null,
      "outputs": []
    },
    {
      "cell_type": "code",
      "source": [
        "y_pred = modelo_regresion.predict(X_test)#entrenamos las predicciones"
      ],
      "metadata": {
        "id": "U8FxHkwVhUka"
      },
      "execution_count": null,
      "outputs": []
    },
    {
      "cell_type": "code",
      "source": [
        "#se enntrena el error cuadratico no olvidar importar metrics\n",
        "mse = mean_squared_error(y_test, y_pred)\n",
        "print(f\"Error Cuadrático Medio (MSE): {mse}\")"
      ],
      "metadata": {
        "id": "xsAvW3YahV3y"
      },
      "execution_count": null,
      "outputs": []
    },
    {
      "cell_type": "code",
      "source": [
        "#entrenamos la determinacion\n",
        "r2 = r2_score(y_test, y_pred)\n",
        "print(f\"Coeficiente de Determinación (R²): {r2}\")"
      ],
      "metadata": {
        "id": "oBBoKgxmiJK4"
      },
      "execution_count": null,
      "outputs": []
    },
    {
      "cell_type": "code",
      "source": [
        "#para realizar las predicciones o calculos es de suma importancia colocar los valores deacuerdo a el orden de los campos si no nos proporciona valores erroneos\n",
        "\n",
        "caso1 = [17000, 3, 0]\n",
        "caso2 = [15400, 1, 1]\n",
        "prediccion_caso1 = modelo_regresion.predict([caso1])\n",
        "prediccion_caso2 = modelo_regresion.predict([caso2])\n",
        "print(f\"Predicción para el Primer Caso: {prediccion_caso1[0]}\")\n",
        "print(f\"Predicción para el Segundo Caso: {prediccion_caso2[0]}\")"
      ],
      "metadata": {
        "id": "dbOk5FGpid-B"
      },
      "execution_count": null,
      "outputs": []
    }
  ]
}